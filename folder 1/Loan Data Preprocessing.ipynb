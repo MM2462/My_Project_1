{
 "cells": [
  {
   "cell_type": "code",
   "execution_count": 1,
   "id": "aa8a7629-2748-4b9b-91e2-daef9cedb086",
   "metadata": {},
   "outputs": [],
   "source": [
    "import numpy as np\n",
    "np.set_printoptions(suppress = True , linewidth = 100 , precision = 2)"
   ]
  },
  {
   "cell_type": "markdown",
   "id": "7f5583f7-7deb-4405-8203-cf23d8486152",
   "metadata": {},
   "source": [
    "IMPORTING THE DATA "
   ]
  },
  {
   "cell_type": "code",
   "execution_count": 2,
   "id": "0d66d7b2-2a3e-4211-a452-a792cd9b2b7e",
   "metadata": {},
   "outputs": [
    {
     "data": {
      "text/plain": [
       "array([[48010226.  ,         nan,    35000.  , ...,         nan,         nan,     9452.96],\n",
       "       [57693261.  ,         nan,    30000.  , ...,         nan,         nan,     4679.7 ],\n",
       "       [59432726.  ,         nan,    15000.  , ...,         nan,         nan,     1969.83],\n",
       "       ...,\n",
       "       [50415990.  ,         nan,    10000.  , ...,         nan,         nan,     2185.64],\n",
       "       [46154151.  ,         nan,         nan, ...,         nan,         nan,     3199.4 ],\n",
       "       [66055249.  ,         nan,    10000.  , ...,         nan,         nan,      301.9 ]])"
      ]
     },
     "execution_count": 2,
     "metadata": {},
     "output_type": "execute_result"
    }
   ],
   "source": [
    "raw_data_np = np.genfromtxt('loan-data.csv' , delimiter = ';' , skip_header = 1 , autostrip = True )\n",
    "raw_data_np"
   ]
  },
  {
   "cell_type": "markdown",
   "id": "ef728931-fb04-4e9e-a606-8d8a777f405a",
   "metadata": {},
   "source": [
    "CHECKING FOR INCOMPLETE DATA "
   ]
  },
  {
   "cell_type": "code",
   "execution_count": 3,
   "id": "0e4e7acc-f1bc-4243-8544-99bd92842f47",
   "metadata": {},
   "outputs": [
    {
     "data": {
      "text/plain": [
       "88005"
      ]
     },
     "execution_count": 3,
     "metadata": {},
     "output_type": "execute_result"
    }
   ],
   "source": [
    "np.isnan(raw_data_np).sum()"
   ]
  },
  {
   "cell_type": "code",
   "execution_count": 4,
   "id": "747dfda8-3a94-4268-9e4c-b514ea92b845",
   "metadata": {},
   "outputs": [
    {
     "name": "stderr",
     "output_type": "stream",
     "text": [
      "C:\\Users\\CompuStar\\AppData\\Local\\Temp\\ipykernel_11448\\3631136524.py:2: RuntimeWarning: Mean of empty slice\n",
      "  temporary_mean = np.nanmean(raw_data_np , axis = 0 )\n"
     ]
    },
    {
     "data": {
      "text/plain": [
       "array([54015809.19,         nan,    15273.46,         nan,    15311.04,         nan,       16.62,\n",
       "            440.92,         nan,         nan,         nan,         nan,         nan,     3143.85])"
      ]
     },
     "execution_count": 4,
     "metadata": {},
     "output_type": "execute_result"
    }
   ],
   "source": [
    "temporary_fill = np.nanmax(raw_data_np) + 1 \n",
    "temporary_mean = np.nanmean(raw_data_np , axis = 0 )\n",
    "temporary_mean"
   ]
  },
  {
   "cell_type": "code",
   "execution_count": 5,
   "id": "ae95522a-f6a5-4b34-b6a8-fe455922c327",
   "metadata": {},
   "outputs": [
    {
     "name": "stderr",
     "output_type": "stream",
     "text": [
      "C:\\Users\\CompuStar\\AppData\\Local\\Temp\\ipykernel_11448\\2267994936.py:2: RuntimeWarning: All-NaN slice encountered\n",
      "  np.nanmin(raw_data_np , axis = 0) ,\n",
      "C:\\Users\\CompuStar\\AppData\\Local\\Temp\\ipykernel_11448\\2267994936.py:4: RuntimeWarning: All-NaN slice encountered\n",
      "  np.nanmax(raw_data_np , axis = 0)\n"
     ]
    },
    {
     "data": {
      "text/plain": [
       "array([[  373332.  ,         nan,     1000.  ,         nan,     1000.  ,         nan,        6.  ,\n",
       "              31.42,         nan,         nan,         nan,         nan,         nan,        0.  ],\n",
       "       [54015809.19,         nan,    15273.46,         nan,    15311.04,         nan,       16.62,\n",
       "             440.92,         nan,         nan,         nan,         nan,         nan,     3143.85],\n",
       "       [68616519.  ,         nan,    35000.  ,         nan,    35000.  ,         nan,       28.99,\n",
       "            1372.97,         nan,         nan,         nan,         nan,         nan,    41913.62]])"
      ]
     },
     "execution_count": 5,
     "metadata": {},
     "output_type": "execute_result"
    }
   ],
   "source": [
    "temporary_stats = np.array([\n",
    "    np.nanmin(raw_data_np , axis = 0) , \n",
    "        temporary_mean , \n",
    "    np.nanmax(raw_data_np , axis = 0) \n",
    "])  \n",
    "temporary_stats "
   ]
  },
  {
   "cell_type": "markdown",
   "id": "4d0ed483-6d84-4f66-8bdc-0802bfd387a4",
   "metadata": {},
   "source": [
    "SPLITTING TEH DATASET"
   ]
  },
  {
   "cell_type": "code",
   "execution_count": 6,
   "id": "c7966101-202a-439a-a70b-a4c552d3bb2c",
   "metadata": {},
   "outputs": [
    {
     "data": {
      "text/plain": [
       "array([ 1,  3,  5,  8,  9, 10, 11, 12], dtype=int64)"
      ]
     },
     "execution_count": 6,
     "metadata": {},
     "output_type": "execute_result"
    }
   ],
   "source": [
    "columns_strings = np.argwhere(np.isnan(temporary_mean)).squeeze()\n",
    "columns_strings"
   ]
  },
  {
   "cell_type": "code",
   "execution_count": 7,
   "id": "41788d6c-cb94-4d1f-9a58-52cc0192cca0",
   "metadata": {},
   "outputs": [
    {
     "data": {
      "text/plain": [
       "array([ 0,  2,  4,  6,  7, 13], dtype=int64)"
      ]
     },
     "execution_count": 7,
     "metadata": {},
     "output_type": "execute_result"
    }
   ],
   "source": [
    "columns_numeric = np.argwhere(np.isnan(temporary_mean) == False ) .squeeze()\n",
    "columns_numeric"
   ]
  },
  {
   "cell_type": "markdown",
   "id": "c666137a-7100-46de-813c-b6bafb99fb1c",
   "metadata": {},
   "source": [
    "REIMPORTING THE DATASETS"
   ]
  },
  {
   "cell_type": "code",
   "execution_count": 8,
   "id": "811dd613-8178-4f6b-8820-f422fa784d23",
   "metadata": {},
   "outputs": [
    {
     "data": {
      "text/plain": [
       "array([['May-15', 'Current', '36 months', ..., 'Verified',\n",
       "        'https://www.lendingclub.com/browse/loanDetail.action?loan_id=48010226', 'CA'],\n",
       "       ['', 'Current', '36 months', ..., 'Source Verified',\n",
       "        'https://www.lendingclub.com/browse/loanDetail.action?loan_id=57693261', 'NY'],\n",
       "       ['Sep-15', 'Current', '36 months', ..., 'Verified',\n",
       "        'https://www.lendingclub.com/browse/loanDetail.action?loan_id=59432726', 'PA'],\n",
       "       ...,\n",
       "       ['Jun-15', 'Current', '36 months', ..., 'Source Verified',\n",
       "        'https://www.lendingclub.com/browse/loanDetail.action?loan_id=50415990', 'CA'],\n",
       "       ['Apr-15', 'Current', '36 months', ..., 'Source Verified',\n",
       "        'https://www.lendingclub.com/browse/loanDetail.action?loan_id=46154151', 'OH'],\n",
       "       ['Dec-15', 'Current', '36 months', ..., '',\n",
       "        'https://www.lendingclub.com/browse/loanDetail.action?loan_id=66055249', 'IL']],\n",
       "      dtype='<U69')"
      ]
     },
     "execution_count": 8,
     "metadata": {},
     "output_type": "execute_result"
    }
   ],
   "source": [
    "loan_data_strings = np.genfromtxt(\n",
    "    'loan-data.csv' , \n",
    "    delimiter = ';' ,\n",
    "    skip_header = 1,\n",
    "    autostrip = True , \n",
    "    usecols = columns_strings , \n",
    "    dtype = str \n",
    ")\n",
    "loan_data_strings"
   ]
  },
  {
   "cell_type": "code",
   "execution_count": 9,
   "id": "318b5cd2-0df2-4edb-8c92-8296a5adce51",
   "metadata": {},
   "outputs": [
    {
     "data": {
      "text/plain": [
       "array([[48010226.  ,    35000.  ,    35000.  ,       13.33,     1184.86,     9452.96],\n",
       "       [57693261.  ,    30000.  ,    30000.  , 68616520.  ,      938.57,     4679.7 ],\n",
       "       [59432726.  ,    15000.  ,    15000.  , 68616520.  ,      494.86,     1969.83],\n",
       "       ...,\n",
       "       [50415990.  ,    10000.  ,    10000.  , 68616520.  , 68616520.  ,     2185.64],\n",
       "       [46154151.  , 68616520.  ,    10000.  ,       16.55,      354.3 ,     3199.4 ],\n",
       "       [66055249.  ,    10000.  ,    10000.  , 68616520.  ,      309.97,      301.9 ]])"
      ]
     },
     "execution_count": 9,
     "metadata": {},
     "output_type": "execute_result"
    }
   ],
   "source": [
    "loan_data_numeric = np.genfromtxt(\n",
    "    'loan-data.csv' , \n",
    "    delimiter = ';' ,\n",
    "    skip_header = 1,\n",
    "    autostrip = True , \n",
    "    usecols = columns_numeric ,\n",
    "    filling_values = temporary_fill\n",
    "    \n",
    ")\n",
    "loan_data_numeric"
   ]
  },
  {
   "cell_type": "markdown",
   "id": "5cd98d3c-f647-4bfb-887f-de66909f147a",
   "metadata": {},
   "source": [
    "THE NAMES OF COLUMNS "
   ]
  },
  {
   "cell_type": "code",
   "execution_count": 10,
   "id": "1e4e077e-f68d-42b2-aa00-ad8396ac7778",
   "metadata": {},
   "outputs": [
    {
     "data": {
      "text/plain": [
       "array(['id', 'issue_d', 'loan_amnt', 'loan_status', 'funded_amnt', 'term', 'int_rate',\n",
       "       'installment', 'grade', 'sub_grade', 'verification_status', 'url', 'addr_state',\n",
       "       'total_pymnt'], dtype='<U19')"
      ]
     },
     "execution_count": 10,
     "metadata": {},
     "output_type": "execute_result"
    }
   ],
   "source": [
    "header_full = np.genfromtxt(\n",
    "    'loan-data.csv' , \n",
    "    delimiter = ';' , \n",
    "    autostrip = True , \n",
    "    skip_footer = raw_data_np.shape[0],\n",
    "    dtype = str\n",
    ")\n",
    "header_full"
   ]
  },
  {
   "cell_type": "code",
   "execution_count": 11,
   "id": "853ee65a-aa94-4dc8-bf84-010a4f703b45",
   "metadata": {},
   "outputs": [
    {
     "data": {
      "text/plain": [
       "array(['issue_d', 'loan_status', 'term', 'grade', 'sub_grade', 'verification_status', 'url',\n",
       "       'addr_state'], dtype='<U19')"
      ]
     },
     "execution_count": 11,
     "metadata": {},
     "output_type": "execute_result"
    }
   ],
   "source": [
    "header_strings , header_numeric = header_full[columns_strings] , header_full[columns_numeric]\n",
    "header_strings"
   ]
  },
  {
   "cell_type": "code",
   "execution_count": 12,
   "id": "bf8ca7b4-08ea-490b-a96f-cbd0e97ccbba",
   "metadata": {},
   "outputs": [
    {
     "data": {
      "text/plain": [
       "array(['id', 'loan_amnt', 'funded_amnt', 'int_rate', 'installment', 'total_pymnt'], dtype='<U19')"
      ]
     },
     "execution_count": 12,
     "metadata": {},
     "output_type": "execute_result"
    }
   ],
   "source": [
    "header_numeric"
   ]
  },
  {
   "cell_type": "markdown",
   "id": "5cc071c2-1ee8-40b3-b9fc-9ab122df8c05",
   "metadata": {},
   "source": [
    "CREATING CHECKPOINT "
   ]
  },
  {
   "cell_type": "code",
   "execution_count": 13,
   "id": "ff4cae0f-7f50-4c81-9e3b-94b442ba2ac6",
   "metadata": {},
   "outputs": [
    {
     "data": {
      "text/plain": [
       "True"
      ]
     },
     "execution_count": 13,
     "metadata": {},
     "output_type": "execute_result"
    }
   ],
   "source": [
    "def checkpoint(file_name , checkpoint_header  ,checkpoint_data ):\n",
    "    np.savez(file_name , header = checkpoint_header  , data =  checkpoint_data )\n",
    "    checkpoint_variable = np.load(file_name +'.npz')\n",
    "    return checkpoint_variable \n",
    "checkpoint_test = checkpoint('checkpoint-test' , header_strings , loan_data_strings)\n",
    "#checkpoint_test['header']\n",
    "np.array_equal(checkpoint_test['header'] , header_strings)"
   ]
  },
  {
   "cell_type": "markdown",
   "id": "7b7d2eaf-0089-4b7f-bc6c-4aad75f43047",
   "metadata": {},
   "source": [
    "Manipulating string columns "
   ]
  },
  {
   "cell_type": "code",
   "execution_count": 14,
   "id": "17c8bcc2-ed07-4cd2-9225-e719bed3daf2",
   "metadata": {},
   "outputs": [
    {
     "data": {
      "text/plain": [
       "array(['', 'Apr-15', 'Aug-15', 'Dec-15', 'Feb-15', 'Jan-15', 'Jul-15', 'Jun-15', 'Mar-15',\n",
       "       'May-15', 'Nov-15', 'Oct-15', 'Sep-15'], dtype='<U69')"
      ]
     },
     "execution_count": 14,
     "metadata": {},
     "output_type": "execute_result"
    }
   ],
   "source": [
    "np.unique(loan_data_strings[:,0])"
   ]
  },
  {
   "cell_type": "code",
   "execution_count": 15,
   "id": "fa027be0-612c-4f74-8526-566c4a002276",
   "metadata": {},
   "outputs": [
    {
     "data": {
      "text/plain": [
       "array(['', 'Apr', 'Aug', 'Dec', 'Feb', 'Jan', 'Jul', 'Jun', 'Mar', 'May', 'Nov', 'Oct', 'Sep'],\n",
       "      dtype='<U69')"
      ]
     },
     "execution_count": 15,
     "metadata": {},
     "output_type": "execute_result"
    }
   ],
   "source": [
    "loan_data_strings[:,0] = np.chararray.strip(loan_data_strings[:,0] , '-15')\n",
    "np.unique(loan_data_strings[:,0])"
   ]
  },
  {
   "cell_type": "code",
   "execution_count": 16,
   "id": "692d055f-a485-464f-83d8-0b515bf7989f",
   "metadata": {},
   "outputs": [
    {
     "data": {
      "text/plain": [
       "array(['0', '1', '10', '11', '12', '2', '3', '4', '5', '6', '7', '8', '9'], dtype='<U69')"
      ]
     },
     "execution_count": 16,
     "metadata": {},
     "output_type": "execute_result"
    }
   ],
   "source": [
    "months = np.array(['','Jan','Feb','Mar','Apr','May','Jun','Jul','Aug','Sep', 'Oct' , 'Nov' ,'Dec'])\n",
    "for i in range(13):\n",
    "    loan_data_strings[:,0] = np.where(loan_data_strings[:,0] == months[i] ,\n",
    "                                      i ,  # put i means as and it's index . put index value  \n",
    "                                      loan_data_strings[:,0])\n",
    "np.unique(loan_data_strings[:,0])"
   ]
  },
  {
   "cell_type": "code",
   "execution_count": 17,
   "id": "7dd3f347-ce7c-4409-b351-aa52e511c5dc",
   "metadata": {},
   "outputs": [
    {
     "data": {
      "text/plain": [
       "'May'"
      ]
     },
     "execution_count": 17,
     "metadata": {},
     "output_type": "execute_result"
    }
   ],
   "source": [
    "months[5]"
   ]
  },
  {
   "cell_type": "markdown",
   "id": "19d24ba9-d056-4952-98bf-4f2173abb1dd",
   "metadata": {},
   "source": [
    "Loan Status "
   ]
  },
  {
   "cell_type": "code",
   "execution_count": 18,
   "id": "77304729-d93c-4cb1-a566-cdc7cf35ee52",
   "metadata": {},
   "outputs": [
    {
     "data": {
      "text/plain": [
       "array(['issue_d', 'loan_status', 'term', 'grade', 'sub_grade', 'verification_status', 'url',\n",
       "       'addr_state'], dtype='<U19')"
      ]
     },
     "execution_count": 18,
     "metadata": {},
     "output_type": "execute_result"
    }
   ],
   "source": [
    "header_strings"
   ]
  },
  {
   "cell_type": "code",
   "execution_count": 19,
   "id": "7fda0075-abfc-458b-8f67-fbdf6e280397",
   "metadata": {},
   "outputs": [
    {
     "data": {
      "text/plain": [
       "array(['', 'Charged Off', 'Current', 'Default', 'Fully Paid', 'In Grace Period', 'Issued',\n",
       "       'Late (16-30 days)', 'Late (31-120 days)'], dtype='<U69')"
      ]
     },
     "execution_count": 19,
     "metadata": {},
     "output_type": "execute_result"
    }
   ],
   "source": [
    "np.unique(loan_data_strings[:,1])"
   ]
  },
  {
   "cell_type": "code",
   "execution_count": 20,
   "id": "ffd87388-6a79-4966-a980-369bb399cc8c",
   "metadata": {},
   "outputs": [
    {
     "data": {
      "text/plain": [
       "9"
      ]
     },
     "execution_count": 20,
     "metadata": {},
     "output_type": "execute_result"
    }
   ],
   "source": [
    "np.unique(loan_data_strings[:,1]).size"
   ]
  },
  {
   "cell_type": "code",
   "execution_count": 21,
   "id": "7994a0ec-7411-46af-91c5-6abc130f265c",
   "metadata": {},
   "outputs": [],
   "source": [
    "status_bad = np.array(['','Charged off' , 'Default' ,'Late(31 - 120)'])"
   ]
  },
  {
   "cell_type": "code",
   "execution_count": 22,
   "id": "db8c8f0d-0d95-4c5d-8e24-da55d8ba9eb5",
   "metadata": {},
   "outputs": [],
   "source": [
    "loan_data_strings[:,1] = np.where(np.isin(loan_data_strings[:,2] , status_bad) ,0 ,1)"
   ]
  },
  {
   "cell_type": "code",
   "execution_count": 23,
   "id": "5faf8d0d-8cd7-4786-a891-2d704aa792ca",
   "metadata": {},
   "outputs": [
    {
     "data": {
      "text/plain": [
       "array(['0', '1'], dtype='<U69')"
      ]
     },
     "execution_count": 23,
     "metadata": {},
     "output_type": "execute_result"
    }
   ],
   "source": [
    "np.unique(loan_data_strings[:,1])"
   ]
  },
  {
   "cell_type": "markdown",
   "id": "811f6ab2-0c16-4e72-8a02-87b6f1740afb",
   "metadata": {},
   "source": [
    "Term"
   ]
  },
  {
   "cell_type": "code",
   "execution_count": 24,
   "id": "0ad6e62f-0c00-4233-a1d3-48a79f4c22ea",
   "metadata": {},
   "outputs": [
    {
     "data": {
      "text/plain": [
       "array(['issue_d', 'loan_status', 'term', 'grade', 'sub_grade', 'verification_status', 'url',\n",
       "       'addr_state'], dtype='<U19')"
      ]
     },
     "execution_count": 24,
     "metadata": {},
     "output_type": "execute_result"
    }
   ],
   "source": [
    "header_strings"
   ]
  },
  {
   "cell_type": "code",
   "execution_count": 25,
   "id": "97fb22ca-801b-414d-ac7c-1223e87feb92",
   "metadata": {},
   "outputs": [
    {
     "data": {
      "text/plain": [
       "array(['', '36 months', '60 months'], dtype='<U69')"
      ]
     },
     "execution_count": 25,
     "metadata": {},
     "output_type": "execute_result"
    }
   ],
   "source": [
    "np.unique(loan_data_strings[:,2])"
   ]
  },
  {
   "cell_type": "code",
   "execution_count": 26,
   "id": "9a2ebb79-5261-4bd8-9dbd-3d85b1126219",
   "metadata": {},
   "outputs": [
    {
     "data": {
      "text/plain": [
       "array(['36', '36', '36', ..., '36', '36', '36'], dtype='<U69')"
      ]
     },
     "execution_count": 26,
     "metadata": {},
     "output_type": "execute_result"
    }
   ],
   "source": [
    "loan_data_strings[:,2] = np.chararray.strip(loan_data_strings[:,2] , ' months')\n",
    "loan_data_strings[:,2]"
   ]
  },
  {
   "cell_type": "code",
   "execution_count": 27,
   "id": "2eb94552-7056-4c30-a023-73ec57425748",
   "metadata": {},
   "outputs": [
    {
     "data": {
      "text/plain": [
       "array(['', '36', '60'], dtype='<U69')"
      ]
     },
     "execution_count": 27,
     "metadata": {},
     "output_type": "execute_result"
    }
   ],
   "source": [
    "header_strings[2] = \"term_months\"\n",
    "np.unique(loan_data_strings[:,2])\n"
   ]
  },
  {
   "cell_type": "code",
   "execution_count": 28,
   "id": "ae7fd6b9-aa7b-4cbe-8ae1-316f0bdd8915",
   "metadata": {},
   "outputs": [
    {
     "data": {
      "text/plain": [
       "array(['36', '36', '36', ..., '36', '36', '36'], dtype='<U69')"
      ]
     },
     "execution_count": 28,
     "metadata": {},
     "output_type": "execute_result"
    }
   ],
   "source": [
    "loan_data_strings[:,2] = np.where(loan_data_strings[:,2] == '',\n",
    "                                '60',\n",
    "                                loan_data_strings[:,2])\n",
    "loan_data_strings[:,2]"
   ]
  },
  {
   "cell_type": "code",
   "execution_count": 29,
   "id": "3c3d7a68-533d-4bc4-87b1-ae2fecb19466",
   "metadata": {},
   "outputs": [
    {
     "data": {
      "text/plain": [
       "array(['36', '60'], dtype='<U69')"
      ]
     },
     "execution_count": 29,
     "metadata": {},
     "output_type": "execute_result"
    }
   ],
   "source": [
    "np.unique(loan_data_strings[:,2])"
   ]
  },
  {
   "cell_type": "markdown",
   "id": "4a8b5f1e-f196-426a-b41e-c253054a6b3d",
   "metadata": {},
   "source": [
    "Grade and subgrade "
   ]
  },
  {
   "cell_type": "code",
   "execution_count": 30,
   "id": "7a024b90-7c1b-4768-8bd7-86b9bc3b43c2",
   "metadata": {},
   "outputs": [
    {
     "data": {
      "text/plain": [
       "array(['issue_d', 'loan_status', 'term_months', 'grade', 'sub_grade', 'verification_status', 'url',\n",
       "       'addr_state'], dtype='<U19')"
      ]
     },
     "execution_count": 30,
     "metadata": {},
     "output_type": "execute_result"
    }
   ],
   "source": [
    "header_strings"
   ]
  },
  {
   "cell_type": "code",
   "execution_count": 31,
   "id": "5826e8ee-0a22-47ad-9e5d-b24781c3e029",
   "metadata": {},
   "outputs": [
    {
     "data": {
      "text/plain": [
       "array(['', 'A', 'B', 'C', 'D', 'E', 'F', 'G'], dtype='<U69')"
      ]
     },
     "execution_count": 31,
     "metadata": {},
     "output_type": "execute_result"
    }
   ],
   "source": [
    "np.unique(loan_data_strings[:,3])"
   ]
  },
  {
   "cell_type": "code",
   "execution_count": 32,
   "id": "b23bf689-f257-4118-aca5-9f31b708464d",
   "metadata": {},
   "outputs": [
    {
     "data": {
      "text/plain": [
       "array(['', 'A1', 'A2', 'A3', 'A4', 'A5', 'B1', 'B2', 'B3', 'B4', 'B5', 'C1', 'C2', 'C3', 'C4',\n",
       "       'C5', 'D1', 'D2', 'D3', 'D4', 'D5', 'E1', 'E2', 'E3', 'E4', 'E5', 'F1', 'F2', 'F3', 'F4',\n",
       "       'F5', 'G1', 'G2', 'G3', 'G4', 'G5'], dtype='<U69')"
      ]
     },
     "execution_count": 32,
     "metadata": {},
     "output_type": "execute_result"
    }
   ],
   "source": [
    "np.unique(loan_data_strings[:,4])"
   ]
  },
  {
   "cell_type": "code",
   "execution_count": 33,
   "id": "26444511-d7d1-480d-9a4e-45ad5f286e8e",
   "metadata": {},
   "outputs": [],
   "source": [
    "for i in np.unique(loan_data_strings[:, 3])[1:]: #[1:]: The [1:] slices the unique values array, starting from the second element (index 1). This means the first element \n",
    "    #(likely to be 0 or some unwanted value) is skipped, and only the remaining unique values are looped over\n",
    "    loan_data_strings[:, 4] = np.where(\n",
    "        (loan_data_strings[:, 4] == '') & (loan_data_strings[:, 3] == i),\n",
    "        i + '5',\n",
    "        loan_data_strings[:, 4]  \n",
    "    )"
   ]
  },
  {
   "cell_type": "code",
   "execution_count": 34,
   "id": "29c67f1c-a556-44d7-a9bd-e9358f04aa93",
   "metadata": {},
   "outputs": [
    {
     "data": {
      "text/plain": [
       "(array(['', 'A1', 'A2', 'A3', 'A4', 'A5', 'B1', 'B2', 'B3', 'B4', 'B5', 'C1', 'C2', 'C3', 'C4',\n",
       "        'C5', 'D1', 'D2', 'D3', 'D4', 'D5', 'E1', 'E2', 'E3', 'E4', 'E5', 'F1', 'F2', 'F3', 'F4',\n",
       "        'F5', 'G1', 'G2', 'G3', 'G4', 'G5'], dtype='<U69'),\n",
       " array([  9, 285, 278, 239, 323, 592, 509, 517, 530, 553, 633, 629, 567, 586, 564, 577, 391, 267,\n",
       "        250, 255, 288, 235, 162, 171, 139, 160,  94,  52,  34,  43,  24,  19,  10,   3,   7,   5],\n",
       "       dtype=int64))"
      ]
     },
     "execution_count": 34,
     "metadata": {},
     "output_type": "execute_result"
    }
   ],
   "source": [
    "np.unique(loan_data_strings[:,4] , return_counts = True)"
   ]
  },
  {
   "cell_type": "code",
   "execution_count": 35,
   "id": "3d1782f4-f472-4eaf-8da3-110092f5cee4",
   "metadata": {},
   "outputs": [],
   "source": [
    "loan_data_strings[:,4] = np.where(\n",
    "    loan_data_strings[:,4] == '',\n",
    "    'H5',\n",
    "    loan_data_strings[:,4]\n",
    ")"
   ]
  },
  {
   "cell_type": "code",
   "execution_count": 36,
   "id": "174f5cea-4d0a-4cfb-9d33-20cd282eb486",
   "metadata": {},
   "outputs": [
    {
     "data": {
      "text/plain": [
       "array(['A1', 'A2', 'A3', 'A4', 'A5', 'B1', 'B2', 'B3', 'B4', 'B5', 'C1', 'C2', 'C3', 'C4', 'C5',\n",
       "       'D1', 'D2', 'D3', 'D4', 'D5', 'E1', 'E2', 'E3', 'E4', 'E5', 'F1', 'F2', 'F3', 'F4', 'F5',\n",
       "       'G1', 'G2', 'G3', 'G4', 'G5', 'H5'], dtype='<U69')"
      ]
     },
     "execution_count": 36,
     "metadata": {},
     "output_type": "execute_result"
    }
   ],
   "source": [
    "np.unique(loan_data_strings[:,4])"
   ]
  },
  {
   "cell_type": "markdown",
   "id": "0396da36-200b-4503-b638-236fffaf59a0",
   "metadata": {},
   "source": [
    "REMOVING GRADE "
   ]
  },
  {
   "cell_type": "code",
   "execution_count": 37,
   "id": "e1b56fd8-52fa-4445-a3a2-7cb53a62a690",
   "metadata": {},
   "outputs": [],
   "source": [
    "loan_data_strings = np.delete(loan_data_strings , obj = 3 ,  axis = 1) # object = 3 . refere to index  0 , 1 , 2 ,3 ,....."
   ]
  },
  {
   "cell_type": "code",
   "execution_count": 38,
   "id": "7d9f2deb-d108-430e-b549-c49cba5d2ab5",
   "metadata": {},
   "outputs": [
    {
     "data": {
      "text/plain": [
       "array(['C3', 'A5', 'B5', ..., 'A5', 'D2', 'A4'], dtype='<U69')"
      ]
     },
     "execution_count": 38,
     "metadata": {},
     "output_type": "execute_result"
    }
   ],
   "source": [
    "loan_data_strings[:,3]"
   ]
  },
  {
   "cell_type": "code",
   "execution_count": 39,
   "id": "7205242c-71a4-4b9b-a30e-1b25029672f7",
   "metadata": {},
   "outputs": [],
   "source": [
    "header_strings = np.delete(header_strings , 3) # object is very important to specify "
   ]
  },
  {
   "cell_type": "code",
   "execution_count": 40,
   "id": "7e507f1b-e604-4776-9a9b-2c267f2a5bda",
   "metadata": {},
   "outputs": [
    {
     "data": {
      "text/plain": [
       "'sub_grade'"
      ]
     },
     "execution_count": 40,
     "metadata": {},
     "output_type": "execute_result"
    }
   ],
   "source": [
    "header_strings[3]"
   ]
  },
  {
   "cell_type": "code",
   "execution_count": 41,
   "id": "4930d6b1-101d-4072-9086-7090f7358bbc",
   "metadata": {},
   "outputs": [
    {
     "data": {
      "text/plain": [
       "array(['issue_d', 'loan_status', 'term_months', 'sub_grade', 'verification_status', 'url',\n",
       "       'addr_state'], dtype='<U19')"
      ]
     },
     "execution_count": 41,
     "metadata": {},
     "output_type": "execute_result"
    }
   ],
   "source": [
    "header_strings"
   ]
  },
  {
   "cell_type": "code",
   "execution_count": 42,
   "id": "eee0324b-d149-4acc-8fa4-ce7fa21b2bb1",
   "metadata": {},
   "outputs": [],
   "source": [
    "# import numpy as np\n",
    "# array_2d = np.array([[1, 2, 3], [4, 5, 6]])\n",
    "# print(array_2d.shape)  # Output: (2, 3)\n",
    "# print(array_2d.shape[0])  # Output: 2 (number of rows)\n",
    "# print(array_2d.shape[1])  # Output: 3 (number of columns)\n"
   ]
  },
  {
   "cell_type": "code",
   "execution_count": 43,
   "id": "9b96703c-4b37-4060-b417-58298edb2749",
   "metadata": {},
   "outputs": [
    {
     "data": {
      "text/plain": [
       "(36,)"
      ]
     },
     "execution_count": 43,
     "metadata": {},
     "output_type": "execute_result"
    }
   ],
   "source": [
    "np.unique(loan_data_strings[:,3]).shape"
   ]
  },
  {
   "cell_type": "code",
   "execution_count": 44,
   "id": "b71b9b15-c7a2-4874-8b49-8b33a529a5c7",
   "metadata": {},
   "outputs": [
    {
     "data": {
      "text/plain": [
       "{'A1': 1,\n",
       " 'A2': 2,\n",
       " 'A3': 3,\n",
       " 'A4': 4,\n",
       " 'A5': 5,\n",
       " 'B1': 6,\n",
       " 'B2': 7,\n",
       " 'B3': 8,\n",
       " 'B4': 9,\n",
       " 'B5': 10,\n",
       " 'C1': 11,\n",
       " 'C2': 12,\n",
       " 'C3': 13,\n",
       " 'C4': 14,\n",
       " 'C5': 15,\n",
       " 'D1': 16,\n",
       " 'D2': 17,\n",
       " 'D3': 18,\n",
       " 'D4': 19,\n",
       " 'D5': 20,\n",
       " 'E1': 21,\n",
       " 'E2': 22,\n",
       " 'E3': 23,\n",
       " 'E4': 24,\n",
       " 'E5': 25,\n",
       " 'F1': 26,\n",
       " 'F2': 27,\n",
       " 'F3': 28,\n",
       " 'F4': 29,\n",
       " 'F5': 30,\n",
       " 'G1': 31,\n",
       " 'G2': 32,\n",
       " 'G3': 33,\n",
       " 'G4': 34,\n",
       " 'G5': 35,\n",
       " 'H5': 36}"
      ]
     },
     "execution_count": 44,
     "metadata": {},
     "output_type": "execute_result"
    }
   ],
   "source": [
    "keys =list( np.unique(loan_data_strings[:,3]))\n",
    "values =list(range(1 , len(keys)+ 1))\n",
    "dict_sub_grade = dict(zip(keys , values))\n",
    "dict_sub_grade"
   ]
  },
  {
   "cell_type": "code",
   "execution_count": 45,
   "id": "0914bc84-971f-41df-b16b-2792c0d2913e",
   "metadata": {},
   "outputs": [
    {
     "data": {
      "text/plain": [
       "(36,)"
      ]
     },
     "execution_count": 45,
     "metadata": {},
     "output_type": "execute_result"
    }
   ],
   "source": [
    "np.unique(loan_data_strings[:,3]).shape"
   ]
  },
  {
   "cell_type": "code",
   "execution_count": 46,
   "id": "b64269ba-96d3-43c8-9bbd-f987f9f6530e",
   "metadata": {},
   "outputs": [
    {
     "data": {
      "text/plain": [
       "36"
      ]
     },
     "execution_count": 46,
     "metadata": {},
     "output_type": "execute_result"
    }
   ],
   "source": [
    "np.unique(loan_data_strings[:,3]).shape[0]"
   ]
  },
  {
   "cell_type": "code",
   "execution_count": 47,
   "id": "4e09b047-7f1f-4e36-82ea-6900c090b4cb",
   "metadata": {},
   "outputs": [],
   "source": [
    "for i in  np.unique(loan_data_strings[:,3]):\n",
    "    loan_data_strings[:,3] = np.where(\n",
    "        loan_data_strings[:,3] == i , \n",
    "        dict_sub_grade[i],\n",
    "        loan_data_strings[:,3]\n",
    "    )"
   ]
  },
  {
   "cell_type": "code",
   "execution_count": 48,
   "id": "5c74d1a9-d478-47cd-bd17-a5abcde76ebe",
   "metadata": {},
   "outputs": [
    {
     "data": {
      "text/plain": [
       "array(['1', '10', '11', '12', '13', '14', '15', '16', '17', '18', '19', '2', '20', '21', '22',\n",
       "       '23', '24', '25', '26', '27', '28', '29', '3', '30', '31', '32', '33', '34', '35', '36',\n",
       "       '4', '5', '6', '7', '8', '9'], dtype='<U69')"
      ]
     },
     "execution_count": 48,
     "metadata": {},
     "output_type": "execute_result"
    }
   ],
   "source": [
    "np.unique(loan_data_strings[:,3])"
   ]
  },
  {
   "cell_type": "markdown",
   "id": "776488b1-7334-4079-b4a2-f300e40728f2",
   "metadata": {},
   "source": [
    "VERIFICATION STATUS \n"
   ]
  },
  {
   "cell_type": "code",
   "execution_count": 49,
   "id": "a83c6bc3-1a47-4f60-89c7-090813402fb8",
   "metadata": {},
   "outputs": [
    {
     "data": {
      "text/plain": [
       "array(['issue_d', 'loan_status', 'term_months', 'sub_grade', 'verification_status', 'url',\n",
       "       'addr_state'], dtype='<U19')"
      ]
     },
     "execution_count": 49,
     "metadata": {},
     "output_type": "execute_result"
    }
   ],
   "source": [
    "header_strings"
   ]
  },
  {
   "cell_type": "code",
   "execution_count": 50,
   "id": "1440f953-681a-4fbf-855f-6144e1bfa45a",
   "metadata": {},
   "outputs": [
    {
     "data": {
      "text/plain": [
       "array(['', 'Not Verified', 'Source Verified', 'Verified'], dtype='<U69')"
      ]
     },
     "execution_count": 50,
     "metadata": {},
     "output_type": "execute_result"
    }
   ],
   "source": [
    "np.unique(loan_data_strings[:,4])"
   ]
  },
  {
   "cell_type": "code",
   "execution_count": 51,
   "id": "abdd5aa3-92fa-4f73-8f3b-c7dbc6051c65",
   "metadata": {},
   "outputs": [],
   "source": [
    "loan_data_strings[:,4] = np.where(\n",
    "    (loan_data_strings[:,4] == '') | (loan_data_strings[:,4] =='Not Verified'),\n",
    "                             0 ,\n",
    "                             1)\n",
    "    "
   ]
  },
  {
   "cell_type": "code",
   "execution_count": 52,
   "id": "0693282d-779c-4e37-9527-def501d1ee11",
   "metadata": {},
   "outputs": [
    {
     "data": {
      "text/plain": [
       "array(['0', '1'], dtype='<U69')"
      ]
     },
     "execution_count": 52,
     "metadata": {},
     "output_type": "execute_result"
    }
   ],
   "source": [
    "np.unique(loan_data_strings[:,4])"
   ]
  },
  {
   "cell_type": "code",
   "execution_count": 53,
   "id": "de369512-39b5-48eb-9742-dfa91b6d7ebd",
   "metadata": {},
   "outputs": [
    {
     "data": {
      "text/plain": [
       "array(['https://www.lendingclub.com/browse/loanDetail.action?loan_id=48010226',\n",
       "       'https://www.lendingclub.com/browse/loanDetail.action?loan_id=57693261',\n",
       "       'https://www.lendingclub.com/browse/loanDetail.action?loan_id=59432726', ...,\n",
       "       'https://www.lendingclub.com/browse/loanDetail.action?loan_id=50415990',\n",
       "       'https://www.lendingclub.com/browse/loanDetail.action?loan_id=46154151',\n",
       "       'https://www.lendingclub.com/browse/loanDetail.action?loan_id=66055249'], dtype='<U69')"
      ]
     },
     "execution_count": 53,
     "metadata": {},
     "output_type": "execute_result"
    }
   ],
   "source": [
    "loan_data_strings[:,5]"
   ]
  },
  {
   "cell_type": "code",
   "execution_count": 54,
   "id": "b32bac4d-dd13-4fa9-ba9d-b63f2fe7ddde",
   "metadata": {},
   "outputs": [
    {
     "data": {
      "text/plain": [
       "array(['48010226', '57693261', '59432726', ..., '50415990', '46154151', '66055249'], dtype='<U69')"
      ]
     },
     "execution_count": 54,
     "metadata": {},
     "output_type": "execute_result"
    }
   ],
   "source": [
    "loan_data_strings[:,5] = np.chararray.strip(loan_data_strings[:,5] , chars = 'https://www.lendingclub.com/browse/loanDetail.action?loan_id=')\n",
    "loan_data_strings[:,5]"
   ]
  },
  {
   "cell_type": "code",
   "execution_count": 55,
   "id": "74a62899-8f53-4af4-803c-952de442f19c",
   "metadata": {},
   "outputs": [
    {
     "data": {
      "text/plain": [
       "array(['id', 'issue_d', 'loan_amnt', 'loan_status', 'funded_amnt', 'term', 'int_rate',\n",
       "       'installment', 'grade', 'sub_grade', 'verification_status', 'url', 'addr_state',\n",
       "       'total_pymnt'], dtype='<U19')"
      ]
     },
     "execution_count": 55,
     "metadata": {},
     "output_type": "execute_result"
    }
   ],
   "source": [
    "header_full"
   ]
  },
  {
   "cell_type": "code",
   "execution_count": 56,
   "id": "423af4f5-eb94-433d-a173-d03872c99f3d",
   "metadata": {},
   "outputs": [
    {
     "data": {
      "text/plain": [
       "array([48010226, 57693261, 59432726, ..., 50415990, 46154151, 66055249])"
      ]
     },
     "execution_count": 56,
     "metadata": {},
     "output_type": "execute_result"
    }
   ],
   "source": [
    "loan_data_numeric[:,0].astype(dtype = np.int32)"
   ]
  },
  {
   "cell_type": "code",
   "execution_count": 57,
   "id": "bf517df2-5797-4692-b7db-ab785e4fd8c0",
   "metadata": {},
   "outputs": [
    {
     "data": {
      "text/plain": [
       "array([48010226, 57693261, 59432726, ..., 50415990, 46154151, 66055249])"
      ]
     },
     "execution_count": 57,
     "metadata": {},
     "output_type": "execute_result"
    }
   ],
   "source": [
    "loan_data_strings[:,5].astype(dtype = np.int32)"
   ]
  },
  {
   "cell_type": "code",
   "execution_count": 58,
   "id": "6c6973ee-6881-4a49-9073-c758d95652d8",
   "metadata": {},
   "outputs": [
    {
     "data": {
      "text/plain": [
       "True"
      ]
     },
     "execution_count": 58,
     "metadata": {},
     "output_type": "execute_result"
    }
   ],
   "source": [
    "np.array_equal(loan_data_numeric[:,0].astype(dtype = np.int32),loan_data_strings[:,5].astype(dtype = np.int32))"
   ]
  },
  {
   "cell_type": "code",
   "execution_count": 59,
   "id": "a3c5f50d-366a-4f4c-8632-a5076898d9a9",
   "metadata": {},
   "outputs": [],
   "source": [
    "loan_data_strings = np.delete(loan_data_strings , obj = 5 , axis = 1)\n",
    "header_strings = np.delete(header_strings , obj = 5)"
   ]
  },
  {
   "cell_type": "markdown",
   "id": "996e46e2-7efe-4d96-914d-03be17dc2ba6",
   "metadata": {},
   "source": [
    "STATE ADDRESS"
   ]
  },
  {
   "cell_type": "code",
   "execution_count": 60,
   "id": "d3b1bdb2-c2c5-4823-83c0-4280ca43845f",
   "metadata": {},
   "outputs": [
    {
     "data": {
      "text/plain": [
       "array(['issue_d', 'loan_status', 'term_months', 'sub_grade', 'verification_status', 'addr_state'],\n",
       "      dtype='<U19')"
      ]
     },
     "execution_count": 60,
     "metadata": {},
     "output_type": "execute_result"
    }
   ],
   "source": [
    "header_strings"
   ]
  },
  {
   "cell_type": "code",
   "execution_count": 61,
   "id": "81e905bd-c7a8-423d-a381-fea66613a307",
   "metadata": {},
   "outputs": [],
   "source": [
    "header_strings[5] = 'state_address'"
   ]
  },
  {
   "cell_type": "code",
   "execution_count": 62,
   "id": "786c83f3-d1ae-4178-886f-ce72be37cfc5",
   "metadata": {},
   "outputs": [
    {
     "data": {
      "text/plain": [
       "array(['issue_d', 'loan_status', 'term_months', 'sub_grade', 'verification_status',\n",
       "       'state_address'], dtype='<U19')"
      ]
     },
     "execution_count": 62,
     "metadata": {},
     "output_type": "execute_result"
    }
   ],
   "source": [
    "header_strings"
   ]
  },
  {
   "cell_type": "code",
   "execution_count": 63,
   "id": "aabdc778-b4a4-465b-93e1-270ab45c060d",
   "metadata": {},
   "outputs": [
    {
     "data": {
      "text/plain": [
       "array(['CA', 'NY', 'PA', ..., 'CA', 'OH', 'IL'], dtype='<U69')"
      ]
     },
     "execution_count": 63,
     "metadata": {},
     "output_type": "execute_result"
    }
   ],
   "source": [
    "loan_data_strings[:,5]"
   ]
  },
  {
   "cell_type": "code",
   "execution_count": 64,
   "id": "2504e658-ead8-4f8f-9727-b62daa56760f",
   "metadata": {},
   "outputs": [
    {
     "data": {
      "text/plain": [
       "array([ 5, 33, 42, 10,  0, 13, 30, 11, 37, 34, 21, 26, 44, 19,  4, 46, 18,  6, 23, 22, 14, 47,  7,\n",
       "       41, 32,  2, 17, 36, 39, 16, 15, 35, 43,  3, 24, 29, 31, 48, 12, 38, 25,  9,  8, 49,  1, 28,\n",
       "       40, 45, 27, 20], dtype=int64)"
      ]
     },
     "execution_count": 64,
     "metadata": {},
     "output_type": "execute_result"
    }
   ],
   "source": [
    "states_names , states_count = np.unique(loan_data_strings[:,5] , return_counts = True)\n",
    "states_count_sorted  = np.argsort(-states_count)\n",
    "states_count_sorted\n",
    "#states_names[5]\n",
    "#states_count[5]"
   ]
  },
  {
   "cell_type": "code",
   "execution_count": 65,
   "id": "5d391504-c9a6-4d60-8e40-bbc4cb1bc5b9",
   "metadata": {},
   "outputs": [
    {
     "data": {
      "text/plain": [
       "(array(['CA', 'NY', 'TX', 'FL', '', 'IL', 'NJ', 'GA', 'PA', 'OH', 'MI', 'NC', 'VA', 'MD', 'AZ',\n",
       "        'WA', 'MA', 'CO', 'MO', 'MN', 'IN', 'WI', 'CT', 'TN', 'NV', 'AL', 'LA', 'OR', 'SC', 'KY',\n",
       "        'KS', 'OK', 'UT', 'AR', 'MS', 'NH', 'NM', 'WV', 'HI', 'RI', 'MT', 'DE', 'DC', 'WY', 'AK',\n",
       "        'NE', 'SD', 'VT', 'ND', 'ME'], dtype='<U69'),\n",
       " array([1336,  777,  758,  690,  500,  389,  341,  321,  320,  312,  267,  261,  242,  222,  220,\n",
       "         216,  210,  201,  160,  156,  152,  148,  143,  143,  130,  119,  116,  108,  107,   84,\n",
       "          84,   83,   74,   74,   61,   58,   57,   49,   44,   40,   28,   27,   27,   27,   26,\n",
       "          25,   24,   17,   16,   10], dtype=int64))"
      ]
     },
     "execution_count": 65,
     "metadata": {},
     "output_type": "execute_result"
    }
   ],
   "source": [
    "states_names[states_count_sorted], states_count[states_count_sorted]"
   ]
  },
  {
   "cell_type": "code",
   "execution_count": 66,
   "id": "9a9cd80d-3153-4499-987b-f904c396ae7e",
   "metadata": {},
   "outputs": [],
   "source": [
    "loan_data_strings[:,5] = np.where(loan_data_strings[:,5] == '' , 0 , loan_data_strings[:,5])  "
   ]
  },
  {
   "cell_type": "code",
   "execution_count": 67,
   "id": "20c69c70-a45e-444f-b22a-89240ff64c6b",
   "metadata": {},
   "outputs": [],
   "source": [
    "states_west = np.array(['WA', 'OR','CA','NV','ID','MT', 'WY','UT','CO', 'AZ','NM','HI','AK'])\n",
    "states_south = np.array(['TX','OK','AR','LA','MS','AL','TN','KY','FL','GA','SC','NC','VA','WV','MD','DE','DC'])\n",
    "states_midwest = np.array(['ND','SD','NE','KS','MN','IA','MO','WI','IL','IN','MI','OH'])\n",
    "states_east = np.array(['PA','NY','NJ','CT','MA','VT','NH','ME','RI'])"
   ]
  },
  {
   "cell_type": "code",
   "execution_count": 68,
   "id": "dfe1e41c-40e1-4b65-aa42-52c38e491156",
   "metadata": {},
   "outputs": [],
   "source": [
    "loan_data_strings[:,5] = np.where(np.isin(loan_data_strings[:,5] , states_west) , 1 , loan_data_strings[:,5])\n",
    "loan_data_strings[:,5] = np.where(np.isin(loan_data_strings[:,5] , states_south) , 2 , loan_data_strings[:,5])\n",
    "loan_data_strings[:,5] = np.where(np.isin(loan_data_strings[:,5] , states_midwest) , 3 , loan_data_strings[:,5])\n",
    "loan_data_strings[:,5] = np.where(np.isin(loan_data_strings[:,5] , states_east) , 4 , loan_data_strings[:,5])"
   ]
  },
  {
   "cell_type": "code",
   "execution_count": 69,
   "id": "ea3cf295-2d0b-4272-89ea-2c1914ca1509",
   "metadata": {},
   "outputs": [
    {
     "data": {
      "text/plain": [
       "array(['0', '1', '2', '3', '4'], dtype='<U69')"
      ]
     },
     "execution_count": 69,
     "metadata": {},
     "output_type": "execute_result"
    }
   ],
   "source": [
    "np.unique(loan_data_strings[:,5])"
   ]
  },
  {
   "cell_type": "markdown",
   "id": "68a622a4-3ec7-4aba-b006-d35150201f9f",
   "metadata": {},
   "source": [
    "converting to Numbers"
   ]
  },
  {
   "cell_type": "code",
   "execution_count": 70,
   "id": "be17db52-19e3-4adc-8d3b-54a6e5e46a27",
   "metadata": {},
   "outputs": [
    {
     "data": {
      "text/plain": [
       "array([['5', '1', '36', '13', '1', '1'],\n",
       "       ['0', '1', '36', '5', '1', '4'],\n",
       "       ['9', '1', '36', '10', '1', '4'],\n",
       "       ...,\n",
       "       ['6', '1', '36', '5', '1', '1'],\n",
       "       ['4', '1', '36', '17', '1', '3'],\n",
       "       ['12', '1', '36', '4', '0', '3']], dtype='<U69')"
      ]
     },
     "execution_count": 70,
     "metadata": {},
     "output_type": "execute_result"
    }
   ],
   "source": [
    "loan_data_strings"
   ]
  },
  {
   "cell_type": "code",
   "execution_count": 71,
   "id": "6275b9d3-77bf-41db-96fd-a3012dcd7a83",
   "metadata": {},
   "outputs": [
    {
     "data": {
      "text/plain": [
       "array([[ 5,  1, 36, 13,  1,  1],\n",
       "       [ 0,  1, 36,  5,  1,  4],\n",
       "       [ 9,  1, 36, 10,  1,  4],\n",
       "       ...,\n",
       "       [ 6,  1, 36,  5,  1,  1],\n",
       "       [ 4,  1, 36, 17,  1,  3],\n",
       "       [12,  1, 36,  4,  0,  3]])"
      ]
     },
     "execution_count": 71,
     "metadata": {},
     "output_type": "execute_result"
    }
   ],
   "source": [
    "loan_data_strings = loan_data_strings.astype(dtype = np.int32)\n",
    "loan_data_strings"
   ]
  },
  {
   "cell_type": "code",
   "execution_count": 72,
   "id": "7e255e73-25b9-4be0-a177-e4d72087c90d",
   "metadata": {},
   "outputs": [],
   "source": [
    "checkpoint_strings = checkpoint('chectpoint-strings' , header_strings , loan_data_strings)\n"
   ]
  },
  {
   "cell_type": "code",
   "execution_count": 73,
   "id": "d674a046-9aa3-406a-818d-db6b20306b9d",
   "metadata": {},
   "outputs": [
    {
     "data": {
      "text/plain": [
       "array([[ 5,  1, 36, 13,  1,  1],\n",
       "       [ 0,  1, 36,  5,  1,  4],\n",
       "       [ 9,  1, 36, 10,  1,  4],\n",
       "       ...,\n",
       "       [ 6,  1, 36,  5,  1,  1],\n",
       "       [ 4,  1, 36, 17,  1,  3],\n",
       "       [12,  1, 36,  4,  0,  3]])"
      ]
     },
     "execution_count": 73,
     "metadata": {},
     "output_type": "execute_result"
    }
   ],
   "source": [
    "checkpoint_strings['data']"
   ]
  },
  {
   "cell_type": "code",
   "execution_count": 74,
   "id": "54ec7e8f-8cf3-4131-bf73-0db03b2fd9b2",
   "metadata": {},
   "outputs": [
    {
     "data": {
      "text/plain": [
       "True"
      ]
     },
     "execution_count": 74,
     "metadata": {},
     "output_type": "execute_result"
    }
   ],
   "source": [
    "np.array_equal(checkpoint_strings['data'] , loan_data_strings)"
   ]
  },
  {
   "cell_type": "markdown",
   "id": "3eb7183d-7930-4699-9dfd-417ca9c770bb",
   "metadata": {},
   "source": [
    "MANIPULATING NUMERIC COLUMNS \n",
    "\n"
   ]
  },
  {
   "cell_type": "code",
   "execution_count": 75,
   "id": "75aba1d2-1825-4777-b1a0-81d5d5bdfb17",
   "metadata": {},
   "outputs": [
    {
     "data": {
      "text/plain": [
       "array([[48010226.  ,    35000.  ,    35000.  ,       13.33,     1184.86,     9452.96],\n",
       "       [57693261.  ,    30000.  ,    30000.  , 68616520.  ,      938.57,     4679.7 ],\n",
       "       [59432726.  ,    15000.  ,    15000.  , 68616520.  ,      494.86,     1969.83],\n",
       "       ...,\n",
       "       [50415990.  ,    10000.  ,    10000.  , 68616520.  , 68616520.  ,     2185.64],\n",
       "       [46154151.  , 68616520.  ,    10000.  ,       16.55,      354.3 ,     3199.4 ],\n",
       "       [66055249.  ,    10000.  ,    10000.  , 68616520.  ,      309.97,      301.9 ]])"
      ]
     },
     "execution_count": 75,
     "metadata": {},
     "output_type": "execute_result"
    }
   ],
   "source": [
    "loan_data_numeric"
   ]
  },
  {
   "cell_type": "code",
   "execution_count": 76,
   "id": "a398a025-3723-4a2f-990f-b876b0437bd5",
   "metadata": {},
   "outputs": [
    {
     "data": {
      "text/plain": [
       "0"
      ]
     },
     "execution_count": 76,
     "metadata": {},
     "output_type": "execute_result"
    }
   ],
   "source": [
    "np.isnan(loan_data_numeric).sum()"
   ]
  },
  {
   "cell_type": "markdown",
   "id": "ce52fb96-b93d-4aca-b149-c9407ff147a6",
   "metadata": {},
   "source": [
    "SUBSTITUTE FILLER VALUES"
   ]
  },
  {
   "cell_type": "code",
   "execution_count": 77,
   "id": "f5848096-b2e1-48f1-b30b-1aebb1f338a8",
   "metadata": {},
   "outputs": [
    {
     "data": {
      "text/plain": [
       "array(['id', 'loan_amnt', 'funded_amnt', 'int_rate', 'installment', 'total_pymnt'], dtype='<U19')"
      ]
     },
     "execution_count": 77,
     "metadata": {},
     "output_type": "execute_result"
    }
   ],
   "source": [
    "header_numeric"
   ]
  },
  {
   "cell_type": "markdown",
   "id": "063f0e4b-6997-43f5-9e19-828c7d967253",
   "metadata": {},
   "source": [
    "ID\n"
   ]
  },
  {
   "cell_type": "code",
   "execution_count": 78,
   "id": "c0366fc7-cde8-4b35-acb4-2c48fc395daf",
   "metadata": {},
   "outputs": [
    {
     "data": {
      "text/plain": [
       "68616520.0"
      ]
     },
     "execution_count": 78,
     "metadata": {},
     "output_type": "execute_result"
    }
   ],
   "source": [
    "temporary_fill"
   ]
  },
  {
   "cell_type": "code",
   "execution_count": 79,
   "id": "c275a733-2502-4549-abb8-3c59ad63106b",
   "metadata": {},
   "outputs": [
    {
     "data": {
      "text/plain": [
       "array([False, False, False, ..., False, False, False])"
      ]
     },
     "execution_count": 79,
     "metadata": {},
     "output_type": "execute_result"
    }
   ],
   "source": [
    "np.isin(loan_data_numeric[:,0] , temporary_fill)"
   ]
  },
  {
   "cell_type": "code",
   "execution_count": 80,
   "id": "5b95e87c-e1b0-4308-b003-504159266f47",
   "metadata": {},
   "outputs": [
    {
     "data": {
      "text/plain": [
       "0"
      ]
     },
     "execution_count": 80,
     "metadata": {},
     "output_type": "execute_result"
    }
   ],
   "source": [
    "np.isin(loan_data_numeric[:,0] , temporary_fill).sum()"
   ]
  },
  {
   "cell_type": "markdown",
   "id": "1d3f9698-c853-4aa8-9b9f-6da3c5c85c36",
   "metadata": {},
   "source": [
    "TEMPORARA STATES\n"
   ]
  },
  {
   "cell_type": "code",
   "execution_count": 81,
   "id": "47a9376e-2f3d-44b9-85f6-33b0d54a6d62",
   "metadata": {},
   "outputs": [
    {
     "data": {
      "text/plain": [
       "array([[  373332.  ,     1000.  ,     1000.  ,        6.  ,       31.42,        0.  ],\n",
       "       [54015809.19,    15273.46,    15311.04,       16.62,      440.92,     3143.85],\n",
       "       [68616519.  ,    35000.  ,    35000.  ,       28.99,     1372.97,    41913.62]])"
      ]
     },
     "execution_count": 81,
     "metadata": {},
     "output_type": "execute_result"
    }
   ],
   "source": [
    "temporary_stats[:,columns_numeric] \n"
   ]
  },
  {
   "cell_type": "markdown",
   "id": "26e7f23d-bf5c-4da9-9d7e-b1df6c601b7f",
   "metadata": {},
   "source": [
    "FUNDED AMOUNT "
   ]
  },
  {
   "cell_type": "code",
   "execution_count": 82,
   "id": "b56c54db-4402-47f9-8794-39df3260ebea",
   "metadata": {},
   "outputs": [
    {
     "data": {
      "text/plain": [
       "array([35000., 30000., 15000., ..., 10000., 10000., 10000.])"
      ]
     },
     "execution_count": 82,
     "metadata": {},
     "output_type": "execute_result"
    }
   ],
   "source": [
    "loan_data_numeric[:,2]"
   ]
  },
  {
   "cell_type": "code",
   "execution_count": 83,
   "id": "d221920f-cef1-437b-929c-efcf56005dbd",
   "metadata": {},
   "outputs": [
    {
     "data": {
      "text/plain": [
       "array([35000., 30000., 15000., ..., 10000., 10000., 10000.])"
      ]
     },
     "execution_count": 83,
     "metadata": {},
     "output_type": "execute_result"
    }
   ],
   "source": [
    "loan_data_numeric[:,2] = np.where(\n",
    "    loan_data_numeric[:,2] == temporary_fill , \n",
    "    temporary_stats[0 , columns_numeric[2]],\n",
    "    loan_data_numeric[:,2]\n",
    ")\n",
    "loan_data_numeric[:,2]"
   ]
  },
  {
   "cell_type": "code",
   "execution_count": 84,
   "id": "907c9a61-b90b-4878-8f6c-99e0fc81cf25",
   "metadata": {},
   "outputs": [
    {
     "data": {
      "text/plain": [
       "array(['id', 'loan_amnt', 'funded_amnt', 'int_rate', 'installment', 'total_pymnt'], dtype='<U19')"
      ]
     },
     "execution_count": 84,
     "metadata": {},
     "output_type": "execute_result"
    }
   ],
   "source": [
    "header_numeric"
   ]
  },
  {
   "cell_type": "code",
   "execution_count": 85,
   "id": "1326ae19-c148-4dfb-ae6e-42579f7bc6b9",
   "metadata": {},
   "outputs": [
    {
     "data": {
      "text/plain": [
       "6.0"
      ]
     },
     "execution_count": 85,
     "metadata": {},
     "output_type": "execute_result"
    }
   ],
   "source": [
    "temporary_stats[ 0 , columns_numeric[3]]"
   ]
  },
  {
   "cell_type": "markdown",
   "id": "caecc2e2-38e4-43fa-adf2-df36ba0d2736",
   "metadata": {},
   "source": [
    "LOAN AMOUNT , INTEREST RATE , TOTAL PAYMENT , INSTALLMENT \n",
    "\n"
   ]
  },
  {
   "cell_type": "code",
   "execution_count": 86,
   "id": "49175987-5ea1-453f-a771-0262697368d9",
   "metadata": {},
   "outputs": [
    {
     "data": {
      "text/plain": [
       "array(['id', 'loan_amnt', 'funded_amnt', 'int_rate', 'installment', 'total_pymnt'], dtype='<U19')"
      ]
     },
     "execution_count": 86,
     "metadata": {},
     "output_type": "execute_result"
    }
   ],
   "source": [
    "header_numeric"
   ]
  },
  {
   "cell_type": "code",
   "execution_count": 87,
   "id": "0d332b56-5cbd-414a-acef-edbf3cd209a5",
   "metadata": {},
   "outputs": [
    {
     "data": {
      "text/plain": [
       "array([[48010226.  ,    35000.  ,    35000.  ,       13.33,     1184.86,     9452.96],\n",
       "       [57693261.  ,    30000.  ,    30000.  ,       28.99,      938.57,     4679.7 ],\n",
       "       [59432726.  ,    15000.  ,    15000.  ,       28.99,      494.86,     1969.83],\n",
       "       ...,\n",
       "       [50415990.  ,    10000.  ,    10000.  ,       28.99,     1372.97,     2185.64],\n",
       "       [46154151.  ,    35000.  ,    10000.  ,       16.55,      354.3 ,     3199.4 ],\n",
       "       [66055249.  ,    10000.  ,    10000.  ,       28.99,      309.97,      301.9 ]])"
      ]
     },
     "execution_count": 87,
     "metadata": {},
     "output_type": "execute_result"
    }
   ],
   "source": [
    "for i in [1 , 3 , 4 ,5]:\n",
    "    loan_data_numeric[:,i] = np.where(\n",
    "        loan_data_numeric[:,i] == temporary_fill , \n",
    "        temporary_stats[2 , columns_numeric[i]],\n",
    "        loan_data_numeric[:,i]\n",
    "    )\n",
    "loan_data_numeric"
   ]
  },
  {
   "cell_type": "markdown",
   "id": "03141775-7e73-4094-834a-e72b5e31906c",
   "metadata": {},
   "source": [
    "\n",
    "CURRENCY CHANGE"
   ]
  },
  {
   "cell_type": "code",
   "execution_count": 88,
   "id": "75e3718f-1c41-44de-aac6-a1a1fd3a8e85",
   "metadata": {},
   "outputs": [],
   "source": [
    "# THE EXCAHNGE RATE "
   ]
  },
  {
   "cell_type": "code",
   "execution_count": 89,
   "id": "aba8733b-8c39-427f-8f68-67fe4f4bea18",
   "metadata": {},
   "outputs": [
    {
     "data": {
      "text/plain": [
       "array([1.13, 1.12, 1.08, 1.11, 1.1 , 1.12, 1.09, 1.13, 1.13, 1.1 , 1.06, 1.09])"
      ]
     },
     "execution_count": 89,
     "metadata": {},
     "output_type": "execute_result"
    }
   ],
   "source": [
    "EUR_USD = np.genfromtxt('EUR-USD.csv'  , delimiter = ',' , autostrip = True , skip_header = 1 , usecols = 3 )\n",
    "EUR_USD"
   ]
  },
  {
   "cell_type": "code",
   "execution_count": 90,
   "id": "016a6b6d-80ee-403a-af5c-6c6f93feaf11",
   "metadata": {},
   "outputs": [
    {
     "data": {
      "text/plain": [
       "array([ 5,  0,  9, ...,  6,  4, 12])"
      ]
     },
     "execution_count": 90,
     "metadata": {},
     "output_type": "execute_result"
    }
   ],
   "source": [
    "loan_data_strings[:,0]# the loan was issued at aug 2015"
   ]
  },
  {
   "cell_type": "code",
   "execution_count": 91,
   "id": "de7aff7b-db38-4a48-beb5-ad0889c514f6",
   "metadata": {},
   "outputs": [
    {
     "data": {
      "text/plain": [
       "array([1.1 , 1.11, 1.13, ..., 1.12, 1.11, 1.09])"
      ]
     },
     "execution_count": 91,
     "metadata": {},
     "output_type": "execute_result"
    }
   ],
   "source": [
    "exchange_rate = loan_data_strings[:,0]\n",
    "for i in range(1 , 13) :\n",
    "    exchange_rate = np.where(exchange_rate == i , \n",
    "                             EUR_USD[i-1] ,\n",
    "                             exchange_rate)\n",
    "\n",
    "exchange_rate = np.where(exchange_rate == 0 , \n",
    "                        np.mean(EUR_USD),\n",
    "                        exchange_rate\n",
    ")\n",
    "\n",
    "exchange_rate\n",
    "\n",
    "    "
   ]
  },
  {
   "cell_type": "code",
   "execution_count": 92,
   "id": "5c803d66-b303-44c4-843f-c0be84e613af",
   "metadata": {},
   "outputs": [
    {
     "data": {
      "text/plain": [
       "(10000,)"
      ]
     },
     "execution_count": 92,
     "metadata": {},
     "output_type": "execute_result"
    }
   ],
   "source": [
    "exchange_rate.shape"
   ]
  },
  {
   "cell_type": "code",
   "execution_count": 93,
   "id": "8ecac1f4-f9a2-4a49-a29d-73b0795ff0a8",
   "metadata": {},
   "outputs": [
    {
     "data": {
      "text/plain": [
       "(10000, 6)"
      ]
     },
     "execution_count": 93,
     "metadata": {},
     "output_type": "execute_result"
    }
   ],
   "source": [
    "loan_data_numeric.shape"
   ]
  },
  {
   "cell_type": "code",
   "execution_count": 94,
   "id": "8c287d8d-1367-4add-9dd7-4f6e7c44ae5c",
   "metadata": {},
   "outputs": [],
   "source": [
    "exchange_rate = np.reshape(exchange_rate , newshape = (10000,1))"
   ]
  },
  {
   "cell_type": "code",
   "execution_count": 95,
   "id": "56427681-1d26-412e-b689-a7cda3e3962f",
   "metadata": {},
   "outputs": [],
   "source": [
    "loan_data_numeric = np.hstack((loan_data_numeric , exchange_rate))"
   ]
  },
  {
   "cell_type": "code",
   "execution_count": 96,
   "id": "62743aaa-813e-44b4-ab9b-fd16a939ae11",
   "metadata": {},
   "outputs": [
    {
     "data": {
      "text/plain": [
       "array(['id', 'loan_amnt', 'funded_amnt', 'int_rate', 'installment', 'total_pymnt', 'exchange_rate'],\n",
       "      dtype='<U19')"
      ]
     },
     "execution_count": 96,
     "metadata": {},
     "output_type": "execute_result"
    }
   ],
   "source": [
    "header_numeric = np.concatenate((header_numeric , np.array(['exchange_rate'])))\n",
    "header_numeric"
   ]
  },
  {
   "cell_type": "markdown",
   "id": "af0c0ff9-df1a-4686-9c49-74c5eb2b7dc6",
   "metadata": {},
   "source": [
    "\n",
    "\n",
    "\n",
    "From USD to EUR\n",
    "\n"
   ]
  },
  {
   "cell_type": "code",
   "execution_count": 97,
   "id": "23154da1-46ff-460d-b2fb-3fa0f2733822",
   "metadata": {},
   "outputs": [],
   "source": [
    "columns_dollar = np.array([1 , 2, 4 ,5])"
   ]
  },
  {
   "cell_type": "code",
   "execution_count": 98,
   "id": "14cbf73d-46aa-4fe7-8e03-f1f51563e93a",
   "metadata": {},
   "outputs": [
    {
     "data": {
      "text/plain": [
       "array([1.1 , 1.11, 1.13, ..., 1.12, 1.11, 1.09])"
      ]
     },
     "execution_count": 98,
     "metadata": {},
     "output_type": "execute_result"
    }
   ],
   "source": [
    "loan_data_numeric[:,6]"
   ]
  },
  {
   "cell_type": "code",
   "execution_count": 99,
   "id": "21e7bb7a-e478-442b-ab09-a67cfb7bfe82",
   "metadata": {},
   "outputs": [],
   "source": [
    "for i in columns_dollar :\n",
    "    loan_data_numeric = np.hstack((loan_data_numeric , np.reshape(loan_data_numeric[:,i] / loan_data_numeric[:,6] , newshape = (10000,1))))"
   ]
  },
  {
   "cell_type": "code",
   "execution_count": 100,
   "id": "1ac2be60-3c75-410d-adcf-bc03fd6c370a",
   "metadata": {},
   "outputs": [
    {
     "data": {
      "text/plain": [
       "(10000, 11)"
      ]
     },
     "execution_count": 100,
     "metadata": {},
     "output_type": "execute_result"
    }
   ],
   "source": [
    "loan_data_numeric.shape"
   ]
  },
  {
   "cell_type": "code",
   "execution_count": 101,
   "id": "668ca83f-8391-4d79-8a7b-18a085e8533f",
   "metadata": {},
   "outputs": [
    {
     "data": {
      "text/plain": [
       "array([[48010226.  ,    35000.  ,    35000.  , ...,    31933.3 ,     1081.04,     8624.69],\n",
       "       [57693261.  ,    30000.  ,    30000.  , ...,    27132.46,      848.86,     4232.39],\n",
       "       [59432726.  ,    15000.  ,    15000.  , ...,    13326.3 ,      439.64,     1750.04],\n",
       "       ...,\n",
       "       [50415990.  ,    10000.  ,    10000.  , ...,     8910.3 ,     1223.36,     1947.47],\n",
       "       [46154151.  ,    35000.  ,    10000.  , ...,     8997.4 ,      318.78,     2878.63],\n",
       "       [66055249.  ,    10000.  ,    10000.  , ...,     9145.8 ,      283.49,      276.11]])"
      ]
     },
     "execution_count": 101,
     "metadata": {},
     "output_type": "execute_result"
    }
   ],
   "source": [
    "loan_data_numeric"
   ]
  },
  {
   "cell_type": "code",
   "execution_count": 102,
   "id": "5143a10f-26a3-44f1-bd12-ca360994ee56",
   "metadata": {},
   "outputs": [
    {
     "data": {
      "text/plain": [
       "array(['loan_amnt_EUR', 'funded_amnt_EUR', 'installment_EUR', 'total_pymnt_EUR'], dtype='<U15')"
      ]
     },
     "execution_count": 102,
     "metadata": {},
     "output_type": "execute_result"
    }
   ],
   "source": [
    "header_additional = np.array([column_name + '_EUR' for column_name in header_numeric[columns_dollar]])\n",
    "header_additional"
   ]
  },
  {
   "cell_type": "code",
   "execution_count": 103,
   "id": "442e364e-9c2d-478f-a3b8-02e861f41ffb",
   "metadata": {},
   "outputs": [
    {
     "data": {
      "text/plain": [
       "array(['id', 'loan_amnt', 'funded_amnt', 'int_rate', 'installment', 'total_pymnt', 'exchange_rate',\n",
       "       'loan_amnt_EUR', 'funded_amnt_EUR', 'installment_EUR', 'total_pymnt_EUR'], dtype='<U19')"
      ]
     },
     "execution_count": 103,
     "metadata": {},
     "output_type": "execute_result"
    }
   ],
   "source": [
    "header_numeric = np.concatenate((header_numeric , header_additional))\n",
    "header_numeric"
   ]
  },
  {
   "cell_type": "code",
   "execution_count": 104,
   "id": "dc72bd7d-ade8-4369-b0f0-4ef844054653",
   "metadata": {},
   "outputs": [
    {
     "data": {
      "text/plain": [
       "array(['id', 'loan_amnt_USD', 'funded_amnt_USD', 'int_rate', 'installment_USD', 'total_pymnt_USD',\n",
       "       'exchange_rate', 'loan_amnt_EUR', 'funded_amnt_EUR', 'installment_EUR', 'total_pymnt_EUR'],\n",
       "      dtype='<U19')"
      ]
     },
     "execution_count": 104,
     "metadata": {},
     "output_type": "execute_result"
    }
   ],
   "source": [
    "header_numeric[columns_dollar] = np.array([column_name + '_USD' for column_name in header_numeric[columns_dollar]]) # updating\n",
    "header_numeric"
   ]
  },
  {
   "cell_type": "code",
   "execution_count": 105,
   "id": "c46582e6-12c0-4120-8e6d-507cdf9d8a1c",
   "metadata": {},
   "outputs": [],
   "source": [
    "columns_index_order = [0 , 1 ,7 , 2 , 8 , 3 , 4 , 9 , 5 , 10 , 6 ]\n"
   ]
  },
  {
   "cell_type": "code",
   "execution_count": 106,
   "id": "03092ffc-42f0-47b9-8467-912f862e44cd",
   "metadata": {},
   "outputs": [
    {
     "data": {
      "text/plain": [
       "array(['id', 'loan_amnt_USD', 'loan_amnt_EUR', 'funded_amnt_USD', 'funded_amnt_EUR', 'int_rate',\n",
       "       'installment_USD', 'installment_EUR', 'total_pymnt_USD', 'total_pymnt_EUR', 'exchange_rate'],\n",
       "      dtype='<U19')"
      ]
     },
     "execution_count": 106,
     "metadata": {},
     "output_type": "execute_result"
    }
   ],
   "source": [
    "header_numeric = header_numeric[columns_index_order]\n",
    "header_numeric"
   ]
  },
  {
   "cell_type": "code",
   "execution_count": 107,
   "id": "af2470bf-666a-40fa-999d-28b9e1a06915",
   "metadata": {},
   "outputs": [
    {
     "data": {
      "text/plain": [
       "array([[48010226.  ,    35000.  ,    35000.  , ...,    31933.3 ,     1081.04,     8624.69],\n",
       "       [57693261.  ,    30000.  ,    30000.  , ...,    27132.46,      848.86,     4232.39],\n",
       "       [59432726.  ,    15000.  ,    15000.  , ...,    13326.3 ,      439.64,     1750.04],\n",
       "       ...,\n",
       "       [50415990.  ,    10000.  ,    10000.  , ...,     8910.3 ,     1223.36,     1947.47],\n",
       "       [46154151.  ,    35000.  ,    10000.  , ...,     8997.4 ,      318.78,     2878.63],\n",
       "       [66055249.  ,    10000.  ,    10000.  , ...,     9145.8 ,      283.49,      276.11]])"
      ]
     },
     "execution_count": 107,
     "metadata": {},
     "output_type": "execute_result"
    }
   ],
   "source": [
    "loan_data_numeric"
   ]
  },
  {
   "cell_type": "code",
   "execution_count": 108,
   "id": "387d664f-cc0e-4a65-9de6-c901a7a0dc1b",
   "metadata": {},
   "outputs": [
    {
     "data": {
      "text/plain": [
       "array([[48010226.  ,    35000.  ,    31933.3 , ...,     9452.96,     8624.69,        1.1 ],\n",
       "       [57693261.  ,    30000.  ,    27132.46, ...,     4679.7 ,     4232.39,        1.11],\n",
       "       [59432726.  ,    15000.  ,    13326.3 , ...,     1969.83,     1750.04,        1.13],\n",
       "       ...,\n",
       "       [50415990.  ,    10000.  ,     8910.3 , ...,     2185.64,     1947.47,        1.12],\n",
       "       [46154151.  ,    35000.  ,    31490.9 , ...,     3199.4 ,     2878.63,        1.11],\n",
       "       [66055249.  ,    10000.  ,     9145.8 , ...,      301.9 ,      276.11,        1.09]])"
      ]
     },
     "execution_count": 108,
     "metadata": {},
     "output_type": "execute_result"
    }
   ],
   "source": [
    "loan_data_numeric = loan_data_numeric[:,columns_index_order]\n",
    "loan_data_numeric"
   ]
  },
  {
   "cell_type": "code",
   "execution_count": 109,
   "id": "82ee414a-2530-4bcc-92e6-b5cd69df0665",
   "metadata": {},
   "outputs": [],
   "source": [
    "# interest RAte "
   ]
  },
  {
   "cell_type": "markdown",
   "id": "680c7445-ccd6-4d11-9ed1-859985481330",
   "metadata": {},
   "source": [
    "\n",
    "\n",
    "INTEREST RATE \n"
   ]
  },
  {
   "cell_type": "code",
   "execution_count": 110,
   "id": "61bff82e-c511-4dec-8d41-700c5683fba5",
   "metadata": {},
   "outputs": [
    {
     "data": {
      "text/plain": [
       "array(['id', 'loan_amnt_USD', 'loan_amnt_EUR', 'funded_amnt_USD', 'funded_amnt_EUR', 'int_rate',\n",
       "       'installment_USD', 'installment_EUR', 'total_pymnt_USD', 'total_pymnt_EUR', 'exchange_rate'],\n",
       "      dtype='<U19')"
      ]
     },
     "execution_count": 110,
     "metadata": {},
     "output_type": "execute_result"
    }
   ],
   "source": [
    "header_numeric"
   ]
  },
  {
   "cell_type": "code",
   "execution_count": 111,
   "id": "a8292edb-aee6-4222-a2c5-f466bdd6b888",
   "metadata": {},
   "outputs": [
    {
     "data": {
      "text/plain": [
       "array([13.33, 28.99, 28.99, ..., 28.99, 16.55, 28.99])"
      ]
     },
     "execution_count": 111,
     "metadata": {},
     "output_type": "execute_result"
    }
   ],
   "source": [
    "loan_data_numeric[:,5]"
   ]
  },
  {
   "cell_type": "code",
   "execution_count": 112,
   "id": "a03d1938-77c6-4735-bb73-3c9f5e0dcd97",
   "metadata": {},
   "outputs": [
    {
     "data": {
      "text/plain": [
       "array([0.13, 0.29, 0.29, ..., 0.29, 0.17, 0.29])"
      ]
     },
     "execution_count": 112,
     "metadata": {},
     "output_type": "execute_result"
    }
   ],
   "source": [
    "loan_data_numeric[:,5] = loan_data_numeric[:,5] / 100\n",
    "loan_data_numeric[:,5]"
   ]
  },
  {
   "cell_type": "markdown",
   "id": "fa736a46-71d3-4edd-8bb3-655ab9a319e3",
   "metadata": {},
   "source": [
    "\n",
    "CHECKPOINT NUMERIC\n"
   ]
  },
  {
   "cell_type": "code",
   "execution_count": 113,
   "id": "9d71c157-3e6e-4a66-b4fe-af1d7d5026c1",
   "metadata": {},
   "outputs": [],
   "source": [
    "\n",
    "checkpoint_numeric = checkpoint('Checkpoint-Numeric' , header_numeric , loan_data_numeric)\n"
   ]
  },
  {
   "cell_type": "code",
   "execution_count": 114,
   "id": "a63efe87-2071-418d-b359-36d9589462ab",
   "metadata": {},
   "outputs": [
    {
     "data": {
      "text/plain": [
       "array([[48010226.  ,    35000.  ,    31933.3 , ...,     9452.96,     8624.69,        1.1 ],\n",
       "       [57693261.  ,    30000.  ,    27132.46, ...,     4679.7 ,     4232.39,        1.11],\n",
       "       [59432726.  ,    15000.  ,    13326.3 , ...,     1969.83,     1750.04,        1.13],\n",
       "       ...,\n",
       "       [50415990.  ,    10000.  ,     8910.3 , ...,     2185.64,     1947.47,        1.12],\n",
       "       [46154151.  ,    35000.  ,    31490.9 , ...,     3199.4 ,     2878.63,        1.11],\n",
       "       [66055249.  ,    10000.  ,     9145.8 , ...,      301.9 ,      276.11,        1.09]])"
      ]
     },
     "execution_count": 114,
     "metadata": {},
     "output_type": "execute_result"
    }
   ],
   "source": [
    "checkpoint_numeric['header']\n",
    "checkpoint_numeric['data']"
   ]
  },
  {
   "cell_type": "markdown",
   "id": "34a8fb46-f44b-4bc2-87a6-a54e5393709e",
   "metadata": {},
   "source": [
    "\n",
    "CREATING A COMPLETER DATASET"
   ]
  },
  {
   "cell_type": "code",
   "execution_count": 115,
   "id": "a9642aaa-0baa-4e72-bd5d-4d71525b8e99",
   "metadata": {},
   "outputs": [
    {
     "data": {
      "text/plain": [
       "(10000, 6)"
      ]
     },
     "execution_count": 115,
     "metadata": {},
     "output_type": "execute_result"
    }
   ],
   "source": [
    "checkpoint_strings['data'].shape"
   ]
  },
  {
   "cell_type": "code",
   "execution_count": 116,
   "id": "f5a93b82-79de-48d4-afbf-2d383fb8310f",
   "metadata": {},
   "outputs": [
    {
     "data": {
      "text/plain": [
       "(10000, 11)"
      ]
     },
     "execution_count": 116,
     "metadata": {},
     "output_type": "execute_result"
    }
   ],
   "source": [
    "checkpoint_numeric['data'].shape"
   ]
  },
  {
   "cell_type": "code",
   "execution_count": 117,
   "id": "4327345b-f8db-4059-8e82-4768bc70e0af",
   "metadata": {},
   "outputs": [],
   "source": [
    "loan_data = np.hstack((checkpoint_numeric['data'] ,checkpoint_strings['data']))"
   ]
  },
  {
   "cell_type": "code",
   "execution_count": 118,
   "id": "f80e2df5-7f7d-49c8-8f0f-bb4e19ff2835",
   "metadata": {},
   "outputs": [
    {
     "data": {
      "text/plain": [
       "array([[48010226.  ,    35000.  ,    31933.3 , ...,       13.  ,        1.  ,        1.  ],\n",
       "       [57693261.  ,    30000.  ,    27132.46, ...,        5.  ,        1.  ,        4.  ],\n",
       "       [59432726.  ,    15000.  ,    13326.3 , ...,       10.  ,        1.  ,        4.  ],\n",
       "       ...,\n",
       "       [50415990.  ,    10000.  ,     8910.3 , ...,        5.  ,        1.  ,        1.  ],\n",
       "       [46154151.  ,    35000.  ,    31490.9 , ...,       17.  ,        1.  ,        3.  ],\n",
       "       [66055249.  ,    10000.  ,     9145.8 , ...,        4.  ,        0.  ,        3.  ]])"
      ]
     },
     "execution_count": 118,
     "metadata": {},
     "output_type": "execute_result"
    }
   ],
   "source": [
    "loan_data"
   ]
  },
  {
   "cell_type": "code",
   "execution_count": 119,
   "id": "eb17f87d-d31d-4bef-84c3-ef9df2b6aac1",
   "metadata": {},
   "outputs": [
    {
     "data": {
      "text/plain": [
       "0"
      ]
     },
     "execution_count": 119,
     "metadata": {},
     "output_type": "execute_result"
    }
   ],
   "source": [
    "np.isnan(loan_data).sum()"
   ]
  },
  {
   "cell_type": "code",
   "execution_count": 120,
   "id": "bdbd2795-4e9e-4ed3-bb33-5da7051dbe48",
   "metadata": {},
   "outputs": [
    {
     "data": {
      "text/plain": [
       "array(['id', 'loan_amnt_USD', 'loan_amnt_EUR', 'funded_amnt_USD', 'funded_amnt_EUR', 'int_rate',\n",
       "       'installment_USD', 'installment_EUR', 'total_pymnt_USD', 'total_pymnt_EUR', 'exchange_rate',\n",
       "       'issue_d', 'loan_status', 'term_months', 'sub_grade', 'verification_status',\n",
       "       'state_address'], dtype='<U19')"
      ]
     },
     "execution_count": 120,
     "metadata": {},
     "output_type": "execute_result"
    }
   ],
   "source": [
    "header_full = np.concatenate((checkpoint_numeric['header'] , checkpoint_strings['header']))\n",
    "header_full"
   ]
  },
  {
   "cell_type": "markdown",
   "id": "66cd82fc-5a21-4734-92d7-2ee7e16e8178",
   "metadata": {},
   "source": [
    "\n",
    "\n",
    "Sorting the new data set "
   ]
  },
  {
   "cell_type": "code",
   "execution_count": 121,
   "id": "cf7fc65b-fee9-4279-a1ea-0e157fb5fb9f",
   "metadata": {},
   "outputs": [
    {
     "data": {
      "text/plain": [
       "array([[  373332.  ,     9950.  ,     9038.08, ...,       21.  ,        0.  ,        1.  ],\n",
       "       [  575239.  ,    12000.  ,    10900.2 , ...,       25.  ,        1.  ,        2.  ],\n",
       "       [  707689.  ,    10000.  ,     8924.3 , ...,       13.  ,        1.  ,        0.  ],\n",
       "       ...,\n",
       "       [68614880.  ,     5600.  ,     5121.65, ...,        8.  ,        1.  ,        1.  ],\n",
       "       [68615915.  ,     4000.  ,     3658.32, ...,       10.  ,        1.  ,        2.  ],\n",
       "       [68616519.  ,    21600.  ,    19754.93, ...,        3.  ,        0.  ,        2.  ]])"
      ]
     },
     "execution_count": 121,
     "metadata": {},
     "output_type": "execute_result"
    }
   ],
   "source": [
    "loan_data = loan_data[np.argsort(loan_data[:,0])]\n",
    "loan_data"
   ]
  },
  {
   "cell_type": "code",
   "execution_count": 122,
   "id": "ba19297a-c9c1-4195-81f3-9c5d8d81ca1b",
   "metadata": {},
   "outputs": [
    {
     "data": {
      "text/plain": [
       "array([   0,    1,    2, ..., 9997, 9998, 9999], dtype=int64)"
      ]
     },
     "execution_count": 122,
     "metadata": {},
     "output_type": "execute_result"
    }
   ],
   "source": [
    "np.argsort(loan_data[:,0])"
   ]
  },
  {
   "cell_type": "code",
   "execution_count": 123,
   "id": "21f7ae33-f5d7-4b8a-b325-db4fc8b3587a",
   "metadata": {},
   "outputs": [
    {
     "data": {
      "text/plain": [
       "array([373332.])"
      ]
     },
     "execution_count": 123,
     "metadata": {},
     "output_type": "execute_result"
    }
   ],
   "source": [
    "loan_data[0:1,0]"
   ]
  },
  {
   "cell_type": "markdown",
   "id": "510caccb-236f-4f43-872e-78e367079ae4",
   "metadata": {},
   "source": [
    "\n",
    "\n",
    "sorting the newdatset"
   ]
  },
  {
   "cell_type": "code",
   "execution_count": 124,
   "id": "9a9328c5-cb97-4c1c-abfb-10b36cc4a26c",
   "metadata": {},
   "outputs": [],
   "source": [
    "loan_data = np.vstack((header_full , loan_data))\n",
    "np.savetxt('loan-data-preprocessed.csv',\n",
    "           loan_data,\n",
    "           delimiter = ';',\n",
    "           fmt = '%s'\n",
    ")"
   ]
  },
  {
   "cell_type": "code",
   "execution_count": null,
   "id": "18b0bcf9-8e76-4b27-a74c-6ff0c0b40174",
   "metadata": {},
   "outputs": [],
   "source": []
  }
 ],
 "metadata": {
  "kernelspec": {
   "display_name": "Python 3 (ipykernel)",
   "language": "python",
   "name": "python3"
  },
  "language_info": {
   "codemirror_mode": {
    "name": "ipython",
    "version": 3
   },
   "file_extension": ".py",
   "mimetype": "text/x-python",
   "name": "python",
   "nbconvert_exporter": "python",
   "pygments_lexer": "ipython3",
   "version": "3.12.4"
  }
 },
 "nbformat": 4,
 "nbformat_minor": 5
}
